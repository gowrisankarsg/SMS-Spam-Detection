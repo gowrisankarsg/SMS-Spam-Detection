{
 "cells": [
  {
   "cell_type": "code",
   "execution_count": 1,
   "id": "1d628745-38c1-4b9f-9cb4-7d328441b9b5",
   "metadata": {},
   "outputs": [],
   "source": [
    "import torch\n",
    "import torch.nn as nn\n",
    "import torch.nn.functional as F\n",
    "from torch.optim import Adam\n",
    "from torch.utils.data import Dataset, DataLoader\n",
    "from sklearn.model_selection import train_test_split\n",
    "import re\n",
    "import pandas as pd\n",
    "import nltk\n",
    "from nltk.tokenize import word_tokenize\n",
    "from nltk.corpus import stopwords\n",
    "from collections import Counter\n",
    "import warnings\n",
    "warnings.filterwarnings('ignore')"
   ]
  },
  {
   "cell_type": "code",
   "execution_count": 2,
   "id": "bf852483-719b-4965-bc7b-52cc95053a4a",
   "metadata": {},
   "outputs": [
    {
     "data": {
      "text/html": [
       "<div>\n",
       "<style scoped>\n",
       "    .dataframe tbody tr th:only-of-type {\n",
       "        vertical-align: middle;\n",
       "    }\n",
       "\n",
       "    .dataframe tbody tr th {\n",
       "        vertical-align: top;\n",
       "    }\n",
       "\n",
       "    .dataframe thead th {\n",
       "        text-align: right;\n",
       "    }\n",
       "</style>\n",
       "<table border=\"1\" class=\"dataframe\">\n",
       "  <thead>\n",
       "    <tr style=\"text-align: right;\">\n",
       "      <th></th>\n",
       "      <th>v1</th>\n",
       "      <th>v2</th>\n",
       "      <th>Unnamed: 2</th>\n",
       "      <th>Unnamed: 3</th>\n",
       "      <th>Unnamed: 4</th>\n",
       "    </tr>\n",
       "  </thead>\n",
       "  <tbody>\n",
       "    <tr>\n",
       "      <th>0</th>\n",
       "      <td>ham</td>\n",
       "      <td>Go until jurong point, crazy.. Available only ...</td>\n",
       "      <td>NaN</td>\n",
       "      <td>NaN</td>\n",
       "      <td>NaN</td>\n",
       "    </tr>\n",
       "    <tr>\n",
       "      <th>1</th>\n",
       "      <td>ham</td>\n",
       "      <td>Ok lar... Joking wif u oni...</td>\n",
       "      <td>NaN</td>\n",
       "      <td>NaN</td>\n",
       "      <td>NaN</td>\n",
       "    </tr>\n",
       "    <tr>\n",
       "      <th>2</th>\n",
       "      <td>spam</td>\n",
       "      <td>Free entry in 2 a wkly comp to win FA Cup fina...</td>\n",
       "      <td>NaN</td>\n",
       "      <td>NaN</td>\n",
       "      <td>NaN</td>\n",
       "    </tr>\n",
       "    <tr>\n",
       "      <th>3</th>\n",
       "      <td>ham</td>\n",
       "      <td>U dun say so early hor... U c already then say...</td>\n",
       "      <td>NaN</td>\n",
       "      <td>NaN</td>\n",
       "      <td>NaN</td>\n",
       "    </tr>\n",
       "    <tr>\n",
       "      <th>4</th>\n",
       "      <td>ham</td>\n",
       "      <td>Nah I don't think he goes to usf, he lives aro...</td>\n",
       "      <td>NaN</td>\n",
       "      <td>NaN</td>\n",
       "      <td>NaN</td>\n",
       "    </tr>\n",
       "  </tbody>\n",
       "</table>\n",
       "</div>"
      ],
      "text/plain": [
       "     v1                                                 v2 Unnamed: 2  \\\n",
       "0   ham  Go until jurong point, crazy.. Available only ...        NaN   \n",
       "1   ham                      Ok lar... Joking wif u oni...        NaN   \n",
       "2  spam  Free entry in 2 a wkly comp to win FA Cup fina...        NaN   \n",
       "3   ham  U dun say so early hor... U c already then say...        NaN   \n",
       "4   ham  Nah I don't think he goes to usf, he lives aro...        NaN   \n",
       "\n",
       "  Unnamed: 3 Unnamed: 4  \n",
       "0        NaN        NaN  \n",
       "1        NaN        NaN  \n",
       "2        NaN        NaN  \n",
       "3        NaN        NaN  \n",
       "4        NaN        NaN  "
      ]
     },
     "execution_count": 2,
     "metadata": {},
     "output_type": "execute_result"
    }
   ],
   "source": [
    "data = pd.read_csv('data/spam.csv',encoding='latin1')\n",
    "data.head()"
   ]
  },
  {
   "cell_type": "code",
   "execution_count": 3,
   "id": "f25b115b-6d92-48d0-8328-a82e8dc1c23c",
   "metadata": {},
   "outputs": [
    {
     "data": {
      "text/plain": [
       "(5572, 5)"
      ]
     },
     "execution_count": 3,
     "metadata": {},
     "output_type": "execute_result"
    }
   ],
   "source": [
    "data.shape"
   ]
  },
  {
   "cell_type": "code",
   "execution_count": 4,
   "id": "8fa7900c-fc7f-400b-9a44-d9f44f8e4951",
   "metadata": {},
   "outputs": [
    {
     "name": "stdout",
     "output_type": "stream",
     "text": [
      "<class 'pandas.core.frame.DataFrame'>\n",
      "RangeIndex: 5572 entries, 0 to 5571\n",
      "Data columns (total 5 columns):\n",
      " #   Column      Non-Null Count  Dtype \n",
      "---  ------      --------------  ----- \n",
      " 0   v1          5572 non-null   object\n",
      " 1   v2          5572 non-null   object\n",
      " 2   Unnamed: 2  50 non-null     object\n",
      " 3   Unnamed: 3  12 non-null     object\n",
      " 4   Unnamed: 4  6 non-null      object\n",
      "dtypes: object(5)\n",
      "memory usage: 217.8+ KB\n"
     ]
    }
   ],
   "source": [
    "data.info()"
   ]
  },
  {
   "cell_type": "code",
   "execution_count": 5,
   "id": "cdd69c62-5928-4dc9-9298-b5d50dab2b35",
   "metadata": {},
   "outputs": [],
   "source": [
    "data.drop(['Unnamed: 2','Unnamed: 3','Unnamed: 4'],axis=1,inplace=True)\n",
    "data.columns = [\"label\",'text']"
   ]
  },
  {
   "cell_type": "code",
   "execution_count": 6,
   "id": "018df53f-392b-4bc9-bf66-482875d9ce17",
   "metadata": {},
   "outputs": [
    {
     "data": {
      "text/html": [
       "<div>\n",
       "<style scoped>\n",
       "    .dataframe tbody tr th:only-of-type {\n",
       "        vertical-align: middle;\n",
       "    }\n",
       "\n",
       "    .dataframe tbody tr th {\n",
       "        vertical-align: top;\n",
       "    }\n",
       "\n",
       "    .dataframe thead th {\n",
       "        text-align: right;\n",
       "    }\n",
       "</style>\n",
       "<table border=\"1\" class=\"dataframe\">\n",
       "  <thead>\n",
       "    <tr style=\"text-align: right;\">\n",
       "      <th></th>\n",
       "      <th>label</th>\n",
       "      <th>text</th>\n",
       "    </tr>\n",
       "  </thead>\n",
       "  <tbody>\n",
       "    <tr>\n",
       "      <th>0</th>\n",
       "      <td>ham</td>\n",
       "      <td>Go until jurong point, crazy.. Available only ...</td>\n",
       "    </tr>\n",
       "    <tr>\n",
       "      <th>1</th>\n",
       "      <td>ham</td>\n",
       "      <td>Ok lar... Joking wif u oni...</td>\n",
       "    </tr>\n",
       "    <tr>\n",
       "      <th>2</th>\n",
       "      <td>spam</td>\n",
       "      <td>Free entry in 2 a wkly comp to win FA Cup fina...</td>\n",
       "    </tr>\n",
       "    <tr>\n",
       "      <th>3</th>\n",
       "      <td>ham</td>\n",
       "      <td>U dun say so early hor... U c already then say...</td>\n",
       "    </tr>\n",
       "    <tr>\n",
       "      <th>4</th>\n",
       "      <td>ham</td>\n",
       "      <td>Nah I don't think he goes to usf, he lives aro...</td>\n",
       "    </tr>\n",
       "  </tbody>\n",
       "</table>\n",
       "</div>"
      ],
      "text/plain": [
       "  label                                               text\n",
       "0   ham  Go until jurong point, crazy.. Available only ...\n",
       "1   ham                      Ok lar... Joking wif u oni...\n",
       "2  spam  Free entry in 2 a wkly comp to win FA Cup fina...\n",
       "3   ham  U dun say so early hor... U c already then say...\n",
       "4   ham  Nah I don't think he goes to usf, he lives aro..."
      ]
     },
     "execution_count": 6,
     "metadata": {},
     "output_type": "execute_result"
    }
   ],
   "source": [
    "data.head()"
   ]
  },
  {
   "cell_type": "code",
   "execution_count": 7,
   "id": "8616ed94-290b-4613-b418-be6d42887b08",
   "metadata": {},
   "outputs": [
    {
     "data": {
      "text/plain": [
       "label\n",
       "ham     4825\n",
       "spam     747\n",
       "Name: count, dtype: int64"
      ]
     },
     "execution_count": 7,
     "metadata": {},
     "output_type": "execute_result"
    }
   ],
   "source": [
    "data.label.value_counts()"
   ]
  },
  {
   "cell_type": "code",
   "execution_count": 8,
   "id": "f28493cb-e37a-4282-a5bb-cd3531684f57",
   "metadata": {},
   "outputs": [],
   "source": [
    "data['label'] = data['label'].replace({'ham':0,'spam':1})"
   ]
  },
  {
   "cell_type": "code",
   "execution_count": 9,
   "id": "9044394e-f762-4620-b569-8426c8c0362a",
   "metadata": {},
   "outputs": [
    {
     "data": {
      "text/html": [
       "<div>\n",
       "<style scoped>\n",
       "    .dataframe tbody tr th:only-of-type {\n",
       "        vertical-align: middle;\n",
       "    }\n",
       "\n",
       "    .dataframe tbody tr th {\n",
       "        vertical-align: top;\n",
       "    }\n",
       "\n",
       "    .dataframe thead th {\n",
       "        text-align: right;\n",
       "    }\n",
       "</style>\n",
       "<table border=\"1\" class=\"dataframe\">\n",
       "  <thead>\n",
       "    <tr style=\"text-align: right;\">\n",
       "      <th></th>\n",
       "      <th>label</th>\n",
       "      <th>text</th>\n",
       "    </tr>\n",
       "  </thead>\n",
       "  <tbody>\n",
       "    <tr>\n",
       "      <th>0</th>\n",
       "      <td>0</td>\n",
       "      <td>Go until jurong point, crazy.. Available only ...</td>\n",
       "    </tr>\n",
       "    <tr>\n",
       "      <th>1</th>\n",
       "      <td>0</td>\n",
       "      <td>Ok lar... Joking wif u oni...</td>\n",
       "    </tr>\n",
       "    <tr>\n",
       "      <th>2</th>\n",
       "      <td>1</td>\n",
       "      <td>Free entry in 2 a wkly comp to win FA Cup fina...</td>\n",
       "    </tr>\n",
       "    <tr>\n",
       "      <th>3</th>\n",
       "      <td>0</td>\n",
       "      <td>U dun say so early hor... U c already then say...</td>\n",
       "    </tr>\n",
       "    <tr>\n",
       "      <th>4</th>\n",
       "      <td>0</td>\n",
       "      <td>Nah I don't think he goes to usf, he lives aro...</td>\n",
       "    </tr>\n",
       "  </tbody>\n",
       "</table>\n",
       "</div>"
      ],
      "text/plain": [
       "   label                                               text\n",
       "0      0  Go until jurong point, crazy.. Available only ...\n",
       "1      0                      Ok lar... Joking wif u oni...\n",
       "2      1  Free entry in 2 a wkly comp to win FA Cup fina...\n",
       "3      0  U dun say so early hor... U c already then say...\n",
       "4      0  Nah I don't think he goes to usf, he lives aro..."
      ]
     },
     "execution_count": 9,
     "metadata": {},
     "output_type": "execute_result"
    }
   ],
   "source": [
    "data.head()"
   ]
  },
  {
   "cell_type": "code",
   "execution_count": 10,
   "id": "ce7c02cd-8c7c-467d-8552-fdbea0c7df92",
   "metadata": {},
   "outputs": [],
   "source": [
    "def preprocessing_text(text):\n",
    "    text = re.sub(r'<[^>]*>', '', text)  # Remove HTML tags\n",
    "    text = re.sub(r'http\\S+|www\\S+', '', text)  # Remove URLs\n",
    "    text = re.sub(r'[^a-zA-Z\\s]', '', text)  # Remove non-alphanumeric\n",
    "    tokens = word_tokenize(text.lower())\n",
    "    stop_words = set(stopwords.words('english'))\n",
    "    tokens = [word for word in tokens if word not in stop_words]\n",
    "    return tokens\n",
    "data['token'] = data['text'].apply(preprocessing_text)"
   ]
  },
  {
   "cell_type": "code",
   "execution_count": 11,
   "id": "ca6892dc-35b4-4ef2-81cc-8c7fcd386289",
   "metadata": {},
   "outputs": [
    {
     "data": {
      "text/html": [
       "<div>\n",
       "<style scoped>\n",
       "    .dataframe tbody tr th:only-of-type {\n",
       "        vertical-align: middle;\n",
       "    }\n",
       "\n",
       "    .dataframe tbody tr th {\n",
       "        vertical-align: top;\n",
       "    }\n",
       "\n",
       "    .dataframe thead th {\n",
       "        text-align: right;\n",
       "    }\n",
       "</style>\n",
       "<table border=\"1\" class=\"dataframe\">\n",
       "  <thead>\n",
       "    <tr style=\"text-align: right;\">\n",
       "      <th></th>\n",
       "      <th>label</th>\n",
       "      <th>text</th>\n",
       "      <th>token</th>\n",
       "    </tr>\n",
       "  </thead>\n",
       "  <tbody>\n",
       "    <tr>\n",
       "      <th>0</th>\n",
       "      <td>0</td>\n",
       "      <td>Go until jurong point, crazy.. Available only ...</td>\n",
       "      <td>[go, jurong, point, crazy, available, bugis, n...</td>\n",
       "    </tr>\n",
       "    <tr>\n",
       "      <th>1</th>\n",
       "      <td>0</td>\n",
       "      <td>Ok lar... Joking wif u oni...</td>\n",
       "      <td>[ok, lar, joking, wif, u, oni]</td>\n",
       "    </tr>\n",
       "    <tr>\n",
       "      <th>2</th>\n",
       "      <td>1</td>\n",
       "      <td>Free entry in 2 a wkly comp to win FA Cup fina...</td>\n",
       "      <td>[free, entry, wkly, comp, win, fa, cup, final,...</td>\n",
       "    </tr>\n",
       "    <tr>\n",
       "      <th>3</th>\n",
       "      <td>0</td>\n",
       "      <td>U dun say so early hor... U c already then say...</td>\n",
       "      <td>[u, dun, say, early, hor, u, c, already, say]</td>\n",
       "    </tr>\n",
       "    <tr>\n",
       "      <th>4</th>\n",
       "      <td>0</td>\n",
       "      <td>Nah I don't think he goes to usf, he lives aro...</td>\n",
       "      <td>[nah, dont, think, goes, usf, lives, around, t...</td>\n",
       "    </tr>\n",
       "  </tbody>\n",
       "</table>\n",
       "</div>"
      ],
      "text/plain": [
       "   label                                               text  \\\n",
       "0      0  Go until jurong point, crazy.. Available only ...   \n",
       "1      0                      Ok lar... Joking wif u oni...   \n",
       "2      1  Free entry in 2 a wkly comp to win FA Cup fina...   \n",
       "3      0  U dun say so early hor... U c already then say...   \n",
       "4      0  Nah I don't think he goes to usf, he lives aro...   \n",
       "\n",
       "                                               token  \n",
       "0  [go, jurong, point, crazy, available, bugis, n...  \n",
       "1                     [ok, lar, joking, wif, u, oni]  \n",
       "2  [free, entry, wkly, comp, win, fa, cup, final,...  \n",
       "3      [u, dun, say, early, hor, u, c, already, say]  \n",
       "4  [nah, dont, think, goes, usf, lives, around, t...  "
      ]
     },
     "execution_count": 11,
     "metadata": {},
     "output_type": "execute_result"
    }
   ],
   "source": [
    "data.head()"
   ]
  },
  {
   "cell_type": "code",
   "execution_count": 12,
   "id": "dc167054-dadd-440b-83f5-51594c890ac6",
   "metadata": {},
   "outputs": [],
   "source": [
    "# Build Vocabulary\n",
    "all_words = [word for tokens in data['token'] for word in tokens]\n",
    "word_counts = Counter(all_words)\n",
    "vocab = {word: i+1 for i, word in enumerate(word_counts.keys())}  # Add 1 to reserve 0 for padding"
   ]
  },
  {
   "cell_type": "code",
   "execution_count": 13,
   "id": "d68e2354-7601-4c35-9f2b-703d1028f9fc",
   "metadata": {},
   "outputs": [],
   "source": [
    "# Convert tokens to sequences\n",
    "def tokens_to_sequence(tokens, vocab, max_len=50):\n",
    "    seq = [vocab[word] for word in tokens if word in vocab]\n",
    "    return seq[:max_len] + [0] * (max_len - len(seq))  # Pad or truncate\n",
    "data['sequence'] = data['token'].apply(lambda x: tokens_to_sequence(x, vocab))"
   ]
  },
  {
   "cell_type": "code",
   "execution_count": 14,
   "id": "1c1264f0-3a65-49f7-89b1-0195eebb5c9f",
   "metadata": {},
   "outputs": [
    {
     "data": {
      "text/html": [
       "<div>\n",
       "<style scoped>\n",
       "    .dataframe tbody tr th:only-of-type {\n",
       "        vertical-align: middle;\n",
       "    }\n",
       "\n",
       "    .dataframe tbody tr th {\n",
       "        vertical-align: top;\n",
       "    }\n",
       "\n",
       "    .dataframe thead th {\n",
       "        text-align: right;\n",
       "    }\n",
       "</style>\n",
       "<table border=\"1\" class=\"dataframe\">\n",
       "  <thead>\n",
       "    <tr style=\"text-align: right;\">\n",
       "      <th></th>\n",
       "      <th>label</th>\n",
       "      <th>text</th>\n",
       "      <th>token</th>\n",
       "      <th>sequence</th>\n",
       "    </tr>\n",
       "  </thead>\n",
       "  <tbody>\n",
       "    <tr>\n",
       "      <th>0</th>\n",
       "      <td>0</td>\n",
       "      <td>Go until jurong point, crazy.. Available only ...</td>\n",
       "      <td>[go, jurong, point, crazy, available, bugis, n...</td>\n",
       "      <td>[1, 2, 3, 4, 5, 6, 7, 8, 9, 10, 11, 12, 13, 14...</td>\n",
       "    </tr>\n",
       "    <tr>\n",
       "      <th>1</th>\n",
       "      <td>0</td>\n",
       "      <td>Ok lar... Joking wif u oni...</td>\n",
       "      <td>[ok, lar, joking, wif, u, oni]</td>\n",
       "      <td>[17, 18, 19, 20, 21, 22, 0, 0, 0, 0, 0, 0, 0, ...</td>\n",
       "    </tr>\n",
       "    <tr>\n",
       "      <th>2</th>\n",
       "      <td>1</td>\n",
       "      <td>Free entry in 2 a wkly comp to win FA Cup fina...</td>\n",
       "      <td>[free, entry, wkly, comp, win, fa, cup, final,...</td>\n",
       "      <td>[23, 24, 25, 26, 27, 28, 29, 30, 31, 32, 33, 3...</td>\n",
       "    </tr>\n",
       "    <tr>\n",
       "      <th>3</th>\n",
       "      <td>0</td>\n",
       "      <td>U dun say so early hor... U c already then say...</td>\n",
       "      <td>[u, dun, say, early, hor, u, c, already, say]</td>\n",
       "      <td>[21, 41, 42, 43, 44, 21, 45, 46, 42, 0, 0, 0, ...</td>\n",
       "    </tr>\n",
       "    <tr>\n",
       "      <th>4</th>\n",
       "      <td>0</td>\n",
       "      <td>Nah I don't think he goes to usf, he lives aro...</td>\n",
       "      <td>[nah, dont, think, goes, usf, lives, around, t...</td>\n",
       "      <td>[47, 48, 49, 50, 51, 52, 53, 54, 0, 0, 0, 0, 0...</td>\n",
       "    </tr>\n",
       "  </tbody>\n",
       "</table>\n",
       "</div>"
      ],
      "text/plain": [
       "   label                                               text  \\\n",
       "0      0  Go until jurong point, crazy.. Available only ...   \n",
       "1      0                      Ok lar... Joking wif u oni...   \n",
       "2      1  Free entry in 2 a wkly comp to win FA Cup fina...   \n",
       "3      0  U dun say so early hor... U c already then say...   \n",
       "4      0  Nah I don't think he goes to usf, he lives aro...   \n",
       "\n",
       "                                               token  \\\n",
       "0  [go, jurong, point, crazy, available, bugis, n...   \n",
       "1                     [ok, lar, joking, wif, u, oni]   \n",
       "2  [free, entry, wkly, comp, win, fa, cup, final,...   \n",
       "3      [u, dun, say, early, hor, u, c, already, say]   \n",
       "4  [nah, dont, think, goes, usf, lives, around, t...   \n",
       "\n",
       "                                            sequence  \n",
       "0  [1, 2, 3, 4, 5, 6, 7, 8, 9, 10, 11, 12, 13, 14...  \n",
       "1  [17, 18, 19, 20, 21, 22, 0, 0, 0, 0, 0, 0, 0, ...  \n",
       "2  [23, 24, 25, 26, 27, 28, 29, 30, 31, 32, 33, 3...  \n",
       "3  [21, 41, 42, 43, 44, 21, 45, 46, 42, 0, 0, 0, ...  \n",
       "4  [47, 48, 49, 50, 51, 52, 53, 54, 0, 0, 0, 0, 0...  "
      ]
     },
     "execution_count": 14,
     "metadata": {},
     "output_type": "execute_result"
    }
   ],
   "source": [
    "data.head()"
   ]
  },
  {
   "cell_type": "code",
   "execution_count": 15,
   "id": "1bfa9543-3005-4599-8840-72a1f86b4816",
   "metadata": {},
   "outputs": [],
   "source": [
    "# Create PyTorch Dataset\n",
    "class SpamDataset(Dataset):\n",
    "    def __init__(self, sequences, labels):\n",
    "        self.sequences = sequences\n",
    "        self.labels = labels\n",
    "\n",
    "    def __len__(self):\n",
    "        return len(self.labels)\n",
    "\n",
    "    def __getitem__(self, idx):\n",
    "        return torch.tensor(self.sequences[idx], dtype=torch.long), torch.tensor(self.labels[idx], dtype=torch.float)"
   ]
  },
  {
   "cell_type": "code",
   "execution_count": 16,
   "id": "70ecc65b-afa0-4745-9cc9-64f77575586a",
   "metadata": {},
   "outputs": [],
   "source": [
    "# Split Data\n",
    "X_train, X_test, y_train, y_test = train_test_split(data['sequence'].tolist(), data['label'].tolist(), test_size=0.2, random_state=42)\n",
    "train_ds = SpamDataset(X_train, y_train)\n",
    "test_ds = SpamDataset(X_test, y_test)\n",
    "train_dl = DataLoader(train_ds, batch_size=32, shuffle=True)\n",
    "test_dl = DataLoader(test_ds, batch_size=32, shuffle=False)"
   ]
  },
  {
   "cell_type": "code",
   "execution_count": 35,
   "id": "94e5be8c-9d65-4c82-aee6-d76d9c85bc74",
   "metadata": {},
   "outputs": [],
   "source": [
    "class SpamCollection(nn.Module):\n",
    "    def __init__(self,vocab_size,embed_size,hidden_size,output_size,model_type = \"RNN\"):\n",
    "        super(SpamCollection,self).__init__()\n",
    "        self.embedding = nn.Embedding(vocab_size,embed_size)\n",
    "        self.rnn = None\n",
    "        self.fc = nn.Linear(hidden_size,output_size)\n",
    "        self.sigmoid = nn.Sigmoid()\n",
    "        if model_type == \"RNN\":\n",
    "            self.rnn = nn.RNN(embed_size,hidden_size,batch_first = True)\n",
    "        elif model_type == \"LSTM\":\n",
    "            self.rnn = nn.LSTM(embed_size,hidden_size,batch_first = True)\n",
    "\n",
    "        else:\n",
    "            seelf.rnn = nn.GRU(embed_size,hidden_size,batch_first = True)\n",
    "\n",
    "    def forward(self,x):\n",
    "        x = self.embedding(x)\n",
    "        h0 = torch.zeros(1,x.size(0),hidden_size).to(x.device)\n",
    "        c0 = torch.zeros(1,x.size(0),hidden_size).to(x.device)\n",
    "        if model_type == \"LSTM\":\n",
    "            out,_ = self.rnn(x,(h0,c0))\n",
    "        else:\n",
    "            out,_ = self.rnn(x,h0)\n",
    "        out = self.fc(out[:,-1,:])\n",
    "        return self.sigmoid(out)"
   ]
  },
  {
   "cell_type": "code",
   "execution_count": 37,
   "id": "1394035c-cece-4d9d-a8ef-8812cc4d8f8b",
   "metadata": {},
   "outputs": [],
   "source": [
    "vocab_size = len(vocab)+1\n",
    "embed_size = 100\n",
    "hidden_size = 128\n",
    "output_size = 1\n",
    "lr = 0.001\n",
    "epochs = 10\n",
    "model_type = \"LSTM\""
   ]
  },
  {
   "cell_type": "code",
   "execution_count": 39,
   "id": "b562e917-4c86-43fb-9514-8f17ac86c65a",
   "metadata": {},
   "outputs": [
    {
     "data": {
      "text/plain": [
       "'cuda'"
      ]
     },
     "execution_count": 39,
     "metadata": {},
     "output_type": "execute_result"
    }
   ],
   "source": [
    "device = 'cuda' if torch.cuda.is_available() else 'cpu'\n",
    "device"
   ]
  },
  {
   "cell_type": "code",
   "execution_count": 41,
   "id": "0a3531bd-b19f-4482-9f7a-521a9be4ccd5",
   "metadata": {},
   "outputs": [],
   "source": [
    "model = SpamCollection(vocab_size,embed_size,hidden_size,output_size,model_type).to(device)"
   ]
  },
  {
   "cell_type": "code",
   "execution_count": 43,
   "id": "d804d0da-af7f-4847-90f6-508de2d54eeb",
   "metadata": {},
   "outputs": [],
   "source": [
    "criterion = F.binary_cross_entropy\n",
    "optimizer = Adam(model.parameters(),lr=lr)"
   ]
  },
  {
   "cell_type": "code",
   "execution_count": 45,
   "id": "ddd14fbd-3f16-4a64-bb8e-eb48bbffb1e6",
   "metadata": {},
   "outputs": [],
   "source": [
    "train_loss = 0"
   ]
  },
  {
   "cell_type": "code",
   "execution_count": 57,
   "id": "9a149ec9-2439-43ce-8423-1c74f71bb8ae",
   "metadata": {},
   "outputs": [
    {
     "name": "stderr",
     "output_type": "stream",
     "text": [
      "Epoch:   0%|                                                                      | 0/10 [00:00<?, ?it/s, Loss: 0.0110]\n",
      "Training:   0%|                                                                                | 0/140 [00:00<?, ?it/s]\u001b[A\n",
      "Training:   2%|█▌                                                                      | 3/140 [00:00<00:05, 25.56it/s]\u001b[A\n",
      "Training:   6%|████▋                                                                   | 9/140 [00:00<00:02, 43.78it/s]\u001b[A\n",
      "Training:  14%|██████████▏                                                            | 20/140 [00:00<00:01, 71.44it/s]\u001b[A\n",
      "Training:  23%|████████████████▏                                                      | 32/140 [00:00<00:01, 87.97it/s]\u001b[A\n",
      "Training:  31%|██████████████████████▎                                                | 44/140 [00:00<00:00, 97.81it/s]\u001b[A\n",
      "Training:  40%|████████████████████████████                                          | 56/140 [00:00<00:00, 103.72it/s]\u001b[A\n",
      "Training:  49%|██████████████████████████████████                                    | 68/140 [00:00<00:00, 108.82it/s]\u001b[A\n",
      "Training:  56%|███████████████████████████████████████▌                              | 79/140 [00:00<00:00, 104.83it/s]\u001b[A\n",
      "Training:  64%|█████████████████████████████████████████████                         | 90/140 [00:00<00:00, 103.43it/s]\u001b[A\n",
      "Training:  72%|█████████████████████████████████████████████████▊                   | 101/140 [00:01<00:00, 103.62it/s]\u001b[A\n",
      "Training:  83%|█████████████████████████████████████████████████████████▏           | 116/140 [00:01<00:00, 115.49it/s]\u001b[A\n",
      "Training: 100%|█████████████████████████████████████████████████████████████████████| 140/140 [00:01<00:00, 103.44it/s]\u001b[A\n",
      "Epoch:  10%|██████▏                                                       | 1/10 [00:01<00:12,  1.36s/it, Loss: 0.0107]\n",
      "Training:   0%|                                                                                | 0/140 [00:00<?, ?it/s]\u001b[A\n",
      "Training:   9%|██████                                                                | 12/140 [00:00<00:01, 118.96it/s]\u001b[A\n",
      "Training:  18%|████████████▌                                                         | 25/140 [00:00<00:00, 124.81it/s]\u001b[A\n",
      "Training:  28%|███████████████████▌                                                  | 39/140 [00:00<00:00, 128.80it/s]\u001b[A\n",
      "Training:  38%|██████████████████████████▌                                           | 53/140 [00:00<00:00, 130.40it/s]\u001b[A\n",
      "Training:  48%|█████████████████████████████████▌                                    | 67/140 [00:00<00:00, 124.74it/s]\u001b[A\n",
      "Training:  57%|████████████████████████████████████████                              | 80/140 [00:00<00:00, 122.66it/s]\u001b[A\n",
      "Training:  66%|██████████████████████████████████████████████▌                       | 93/140 [00:00<00:00, 122.85it/s]\u001b[A\n",
      "Training:  76%|████████████████████████████████████████████████████▋                | 107/140 [00:00<00:00, 126.45it/s]\u001b[A\n",
      "Training:  86%|███████████████████████████████████████████████████████████▏         | 120/140 [00:00<00:00, 118.58it/s]\u001b[A\n",
      "Training: 100%|█████████████████████████████████████████████████████████████████████| 140/140 [00:01<00:00, 121.67it/s]\u001b[A\n",
      "Epoch:  20%|████████████▍                                                 | 2/10 [00:02<00:09,  1.24s/it, Loss: 0.0137]\n",
      "Training:   0%|                                                                                | 0/140 [00:00<?, ?it/s]\u001b[A\n",
      "Training:   8%|█████▌                                                                | 11/140 [00:00<00:01, 109.43it/s]\u001b[A\n",
      "Training:  17%|████████████                                                          | 24/140 [00:00<00:00, 118.52it/s]\u001b[A\n",
      "Training:  26%|██████████████████▌                                                   | 37/140 [00:00<00:00, 123.07it/s]\u001b[A\n",
      "Training:  36%|█████████████████████████▌                                            | 51/140 [00:00<00:00, 128.85it/s]\u001b[A\n",
      "Training:  46%|████████████████████████████████                                      | 64/140 [00:00<00:00, 127.19it/s]\u001b[A\n",
      "Training:  55%|██████████████████████████████████████▌                               | 77/140 [00:00<00:00, 124.40it/s]\u001b[A\n",
      "Training:  65%|█████████████████████████████████████████████▌                        | 91/140 [00:00<00:00, 127.95it/s]\u001b[A\n",
      "Training:  74%|███████████████████████████████████████████████████▎                 | 104/140 [00:00<00:00, 127.54it/s]\u001b[A\n",
      "Training:  84%|█████████████████████████████████████████████████████████▋           | 117/140 [00:00<00:00, 125.62it/s]\u001b[A\n",
      "Training: 100%|█████████████████████████████████████████████████████████████████████| 140/140 [00:01<00:00, 123.03it/s]\u001b[A\n",
      "Epoch:  30%|██████████████████▌                                           | 3/10 [00:03<00:08,  1.20s/it, Loss: 0.0122]\n",
      "Training:   0%|                                                                                | 0/140 [00:00<?, ?it/s]\u001b[A\n",
      "Training:   9%|██████▌                                                               | 13/140 [00:00<00:00, 128.03it/s]\u001b[A\n",
      "Training:  19%|█████████████                                                         | 26/140 [00:00<00:00, 123.66it/s]\u001b[A\n",
      "Training:  28%|███████████████████▌                                                  | 39/140 [00:00<00:00, 123.02it/s]\u001b[A\n",
      "Training:  37%|██████████████████████████                                            | 52/140 [00:00<00:00, 124.60it/s]\u001b[A\n",
      "Training:  46%|████████████████████████████████▌                                     | 65/140 [00:00<00:00, 123.88it/s]\u001b[A\n",
      "Training:  56%|███████████████████████████████████████▌                              | 79/140 [00:00<00:00, 127.58it/s]\u001b[A\n",
      "Training:  66%|██████████████████████████████████████████████                        | 92/140 [00:00<00:00, 124.84it/s]\u001b[A\n",
      "Training:  75%|███████████████████████████████████████████████████▊                 | 105/140 [00:00<00:00, 122.25it/s]\u001b[A\n",
      "Training:  84%|██████████████████████████████████████████████████████████▏          | 118/140 [00:00<00:00, 122.75it/s]\u001b[A\n",
      "Training: 100%|█████████████████████████████████████████████████████████████████████| 140/140 [00:01<00:00, 123.72it/s]\u001b[A\n",
      "Epoch:  40%|████████████████████████▊                                     | 4/10 [00:04<00:07,  1.18s/it, Loss: 0.0038]\n",
      "Training:   0%|                                                                                | 0/140 [00:00<?, ?it/s]\u001b[A\n",
      "Training:   9%|██████▌                                                               | 13/140 [00:00<00:01, 125.92it/s]\u001b[A\n",
      "Training:  19%|█████████████                                                         | 26/140 [00:00<00:01, 111.93it/s]\u001b[A\n",
      "Training:  27%|███████████████████                                                   | 38/140 [00:00<00:00, 114.62it/s]\u001b[A\n",
      "Training:  36%|█████████████████████████                                             | 50/140 [00:00<00:00, 110.00it/s]\u001b[A\n",
      "Training:  45%|███████████████████████████████▌                                      | 63/140 [00:00<00:00, 115.08it/s]\u001b[A\n",
      "Training:  54%|██████████████████████████████████████                                | 76/140 [00:00<00:00, 118.22it/s]\u001b[A\n",
      "Training:  63%|████████████████████████████████████████████                          | 88/140 [00:00<00:00, 118.64it/s]\u001b[A\n",
      "Training:  72%|█████████████████████████████████████████████████▊                   | 101/140 [00:00<00:00, 121.04it/s]\u001b[A\n",
      "Training:  81%|████████████████████████████████████████████████████████▏            | 114/140 [00:00<00:00, 115.79it/s]\u001b[A\n",
      "Training:  90%|██████████████████████████████████████████████████████████████       | 126/140 [00:01<00:00, 115.76it/s]\u001b[A\n",
      "Training: 100%|█████████████████████████████████████████████████████████████████████| 140/140 [00:01<00:00, 115.64it/s]\u001b[A\n",
      "Epoch:  50%|███████████████████████████████                               | 5/10 [00:06<00:05,  1.19s/it, Loss: 0.0023]\n",
      "Training:   0%|                                                                                | 0/140 [00:00<?, ?it/s]\u001b[A\n",
      "Training:   9%|██████▌                                                               | 13/140 [00:00<00:00, 129.97it/s]\u001b[A\n",
      "Training:  19%|█████████████▌                                                        | 27/140 [00:00<00:00, 132.96it/s]\u001b[A\n",
      "Training:  29%|████████████████████▌                                                 | 41/140 [00:00<00:00, 123.95it/s]\u001b[A\n",
      "Training:  39%|███████████████████████████                                           | 54/140 [00:00<00:00, 122.63it/s]\u001b[A\n",
      "Training:  48%|█████████████████████████████████▌                                    | 67/140 [00:00<00:00, 117.14it/s]\u001b[A\n",
      "Training:  56%|███████████████████████████████████████▌                              | 79/140 [00:00<00:00, 116.91it/s]\u001b[A\n",
      "Training:  66%|██████████████████████████████████████████████                        | 92/140 [00:00<00:00, 119.83it/s]\u001b[A\n",
      "Training:  75%|███████████████████████████████████████████████████▊                 | 105/140 [00:00<00:00, 116.66it/s]\u001b[A\n",
      "Training:  84%|██████████████████████████████████████████████████████████▏          | 118/140 [00:00<00:00, 120.36it/s]\u001b[A\n",
      "Training: 100%|█████████████████████████████████████████████████████████████████████| 140/140 [00:01<00:00, 119.49it/s]\u001b[A\n",
      "Epoch:  60%|█████████████████████████████████████▏                        | 6/10 [00:07<00:04,  1.19s/it, Loss: 0.0021]\n",
      "Training:   0%|                                                                                | 0/140 [00:00<?, ?it/s]\u001b[A\n",
      "Training:  11%|███████▌                                                              | 15/140 [00:00<00:00, 145.07it/s]\u001b[A\n",
      "Training:  21%|███████████████                                                       | 30/140 [00:00<00:00, 132.02it/s]\u001b[A\n",
      "Training:  31%|██████████████████████                                                | 44/140 [00:00<00:00, 132.69it/s]\u001b[A\n",
      "Training:  41%|█████████████████████████████                                         | 58/140 [00:00<00:00, 131.70it/s]\u001b[A\n",
      "Training:  51%|████████████████████████████████████                                  | 72/140 [00:00<00:00, 125.83it/s]\u001b[A\n",
      "Training:  61%|██████████████████████████████████████████▌                           | 85/140 [00:00<00:00, 122.01it/s]\u001b[A\n",
      "Training:  70%|█████████████████████████████████████████████████                     | 98/140 [00:00<00:00, 118.24it/s]\u001b[A\n",
      "Training:  79%|██████████████████████████████████████████████████████▏              | 110/140 [00:00<00:00, 113.91it/s]\u001b[A\n",
      "Training:  88%|████████████████████████████████████████████████████████████▌        | 123/140 [00:01<00:00, 117.87it/s]\u001b[A\n",
      "Training: 100%|█████████████████████████████████████████████████████████████████████| 140/140 [00:01<00:00, 121.61it/s]\u001b[A\n",
      "Epoch:  70%|███████████████████████████████████████████▍                  | 7/10 [00:08<00:03,  1.18s/it, Loss: 0.0019]\n",
      "Training:   0%|                                                                                | 0/140 [00:00<?, ?it/s]\u001b[A\n",
      "Training:   7%|█████                                                                  | 10/140 [00:00<00:01, 98.25it/s]\u001b[A\n",
      "Training:  16%|███████████                                                           | 22/140 [00:00<00:01, 107.38it/s]\u001b[A\n",
      "Training:  25%|█████████████████▌                                                    | 35/140 [00:00<00:00, 117.22it/s]\u001b[A\n",
      "Training:  34%|███████████████████████▍                                              | 47/140 [00:00<00:00, 114.94it/s]\u001b[A\n",
      "Training:  42%|█████████████████████████████▌                                        | 59/140 [00:00<00:00, 115.51it/s]\u001b[A\n",
      "Training:  51%|███████████████████████████████████▌                                  | 71/140 [00:00<00:00, 116.87it/s]\u001b[A\n",
      "Training:  59%|█████████████████████████████████████████▌                            | 83/140 [00:00<00:00, 116.52it/s]\u001b[A\n",
      "Training:  68%|███████████████████████████████████████████████▌                      | 95/140 [00:00<00:00, 117.55it/s]\u001b[A\n",
      "Training:  76%|████████████████████████████████████████████████████▋                | 107/140 [00:00<00:00, 117.05it/s]\u001b[A\n",
      "Training:  85%|██████████████████████████████████████████████████████████▋          | 119/140 [00:01<00:00, 116.50it/s]\u001b[A\n",
      "Training: 100%|█████████████████████████████████████████████████████████████████████| 140/140 [00:01<00:00, 114.20it/s]\u001b[A\n",
      "Epoch:  80%|█████████████████████████████████████████████████▌            | 8/10 [00:09<00:02,  1.20s/it, Loss: 0.0019]\n",
      "Training:   0%|                                                                                | 0/140 [00:00<?, ?it/s]\u001b[A\n",
      "Training:   9%|██████▌                                                               | 13/140 [00:00<00:01, 121.10it/s]\u001b[A\n",
      "Training:  19%|█████████████                                                         | 26/140 [00:00<00:00, 122.51it/s]\u001b[A\n",
      "Training:  28%|███████████████████▌                                                  | 39/140 [00:00<00:00, 123.16it/s]\u001b[A\n",
      "Training:  37%|██████████████████████████                                            | 52/140 [00:00<00:00, 123.90it/s]\u001b[A\n",
      "Training:  46%|████████████████████████████████▌                                     | 65/140 [00:00<00:00, 122.04it/s]\u001b[A\n",
      "Training:  56%|███████████████████████████████████████                               | 78/140 [00:00<00:00, 116.67it/s]\u001b[A\n",
      "Training:  64%|█████████████████████████████████████████████                         | 90/140 [00:00<00:00, 115.02it/s]\u001b[A\n",
      "Training:  73%|██████████████████████████████████████████████████▎                  | 102/140 [00:00<00:00, 110.01it/s]\u001b[A\n",
      "Training:  82%|████████████████████████████████████████████████████████▋            | 115/140 [00:00<00:00, 113.87it/s]\u001b[A\n",
      "Training:  91%|██████████████████████████████████████████████████████████████▌      | 127/140 [00:01<00:00, 114.82it/s]\u001b[A\n",
      "Training: 100%|█████████████████████████████████████████████████████████████████████| 140/140 [00:01<00:00, 116.75it/s]\u001b[A\n",
      "Epoch:  90%|███████████████████████████████████████████████████████▊      | 9/10 [00:10<00:01,  1.20s/it, Loss: 0.0018]\n",
      "Training:   0%|                                                                                | 0/140 [00:00<?, ?it/s]\u001b[A\n",
      "Training:   9%|██████                                                                | 12/140 [00:00<00:01, 112.09it/s]\u001b[A\n",
      "Training:  18%|████████████▌                                                         | 25/140 [00:00<00:00, 121.33it/s]\u001b[A\n",
      "Training:  27%|███████████████████                                                   | 38/140 [00:00<00:00, 118.27it/s]\u001b[A\n",
      "Training:  36%|█████████████████████████                                             | 50/140 [00:00<00:00, 117.70it/s]\u001b[A\n",
      "Training:  44%|███████████████████████████████                                       | 62/140 [00:00<00:00, 117.80it/s]\u001b[A\n",
      "Training:  54%|█████████████████████████████████████▌                                | 75/140 [00:00<00:00, 120.73it/s]\u001b[A\n",
      "Training:  63%|████████████████████████████████████████████                          | 88/140 [00:00<00:00, 119.82it/s]\u001b[A\n",
      "Training:  72%|█████████████████████████████████████████████████▊                   | 101/140 [00:00<00:00, 121.56it/s]\u001b[A\n",
      "Training:  81%|████████████████████████████████████████████████████████▏            | 114/140 [00:00<00:00, 120.00it/s]\u001b[A\n",
      "Training: 100%|█████████████████████████████████████████████████████████████████████| 140/140 [00:01<00:00, 120.49it/s]\u001b[A\n",
      "                                                                                                                       "
     ]
    },
    {
     "name": "stdout",
     "output_type": "stream",
     "text": [
      "CPU times: total: 2.94 s\n",
      "Wall time: 12 s\n"
     ]
    },
    {
     "name": "stderr",
     "output_type": "stream",
     "text": [
      "\r"
     ]
    }
   ],
   "source": [
    "%%time\n",
    "from tqdm import trange,tqdm\n",
    "pbar = trange(0,epochs,leave=False,desc=\"Epoch\")\n",
    "for epoch in pbar:\n",
    "    # pbar = tqdm(data_dl,desc=\"Training\")\n",
    "    model.train()    \n",
    "    pbar.set_postfix_str('Loss: %.4f' % (train_loss/len(train_dl)))\n",
    "    train_loss = 0\n",
    "    for text,lbls in tqdm(train_dl, desc=\"Training\"):\n",
    "        text,lbls = text.to(device),lbls.to(device)\n",
    "        output = model(text).squeeze()\n",
    "        loss = criterion(output,lbls)\n",
    "        train_loss += loss.item()\n",
    "        optimizer.zero_grad()\n",
    "        loss.backward()\n",
    "        optimizer.step()"
   ]
  },
  {
   "cell_type": "code",
   "execution_count": 59,
   "id": "1d9a02e4-3a34-486b-bb7a-206ec520a5c6",
   "metadata": {},
   "outputs": [
    {
     "name": "stdout",
     "output_type": "stream",
     "text": [
      "965/1115, acc : 86.54708520179372\n"
     ]
    }
   ],
   "source": [
    "correct = 0\n",
    "total = 0\n",
    "model.eval()\n",
    "with torch.no_grad():\n",
    "    for text,lb in test_dl:\n",
    "        text,lb = text.to(device),lb.to(device)\n",
    "        out = model(text)\n",
    "        _,pred = torch.max(out.data,1)\n",
    "        correct += (pred == lb).sum().item()\n",
    "        total += lb.size(0)\n",
    "accuracy = 100 * correct/total\n",
    "print(f\"{correct}/{total}, acc : {accuracy}\")"
   ]
  },
  {
   "cell_type": "code",
   "execution_count": 61,
   "id": "01c44943-8fef-4fcd-a620-34c5b4dc62ae",
   "metadata": {},
   "outputs": [
    {
     "name": "stdout",
     "output_type": "stream",
     "text": [
      "Original : spam , Predict : spam\n"
     ]
    }
   ],
   "source": [
    "ind = 500\n",
    "text,lb = test_ds[ind]\n",
    "out = model(text.unsqueeze(0).to(device))\n",
    "lb = \"ham\" if lb == 0 else \"spam\"\n",
    "if out < 0.5:\n",
    "    print(f\"Original : {lb} , Predict : ham\")\n",
    "else:\n",
    "    print(f\"Original : {lb} , Predict : spam\")"
   ]
  },
  {
   "cell_type": "code",
   "execution_count": null,
   "id": "d7ab5ec5-e1f3-466e-9cfd-45a2e7e2cecc",
   "metadata": {},
   "outputs": [],
   "source": []
  }
 ],
 "metadata": {
  "kernelspec": {
   "display_name": "PyTorch Env",
   "language": "python",
   "name": "pytorch-env"
  },
  "language_info": {
   "codemirror_mode": {
    "name": "ipython",
    "version": 3
   },
   "file_extension": ".py",
   "mimetype": "text/x-python",
   "name": "python",
   "nbconvert_exporter": "python",
   "pygments_lexer": "ipython3",
   "version": "3.11.10"
  }
 },
 "nbformat": 4,
 "nbformat_minor": 5
}
